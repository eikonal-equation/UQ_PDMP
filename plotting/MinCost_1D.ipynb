{
 "cells": [
  {
   "cell_type": "markdown",
   "metadata": {},
   "source": [
    "# Plotting minimum cost for 1D piecewise-deterministic Markov processes"
   ]
  },
  {
   "cell_type": "markdown",
   "metadata": {},
   "source": [
    "### Specify example"
   ]
  },
  {
   "cell_type": "code",
   "execution_count": 1,
   "metadata": {},
   "outputs": [],
   "source": [
    "# example = 1\n",
    "example = 2"
   ]
  },
  {
   "cell_type": "code",
   "execution_count": 2,
   "metadata": {},
   "outputs": [],
   "source": [
    "## Settings that are determined by example number \n",
    "if (example == 1):\n",
    "    name = 'Basic'\n",
    "elif (example == 2):\n",
    "    name = 'SpeedTest'"
   ]
  },
  {
   "cell_type": "markdown",
   "metadata": {},
   "source": [
    "### Import Packages\n"
   ]
  },
  {
   "cell_type": "code",
   "execution_count": 3,
   "metadata": {},
   "outputs": [],
   "source": [
    "## General purpose\n",
    "import numpy as np\n",
    "import os\n",
    "\n",
    "## Plotting-specific\n",
    "import matplotlib.pyplot as plt\n",
    "import matplotlib.colors\n",
    "import matplotlib.animation as animation\n",
    "from IPython.display import HTML\n",
    "\n",
    "## Set plotting defaults\n",
    "mathtextsize = 24\n",
    "plt.rc('text', usetex=True)\n",
    "plt.rc('font', family='serif', size=18)\n",
    "plt.rcParams['savefig.bbox'] = 'tight'"
   ]
  },
  {
   "cell_type": "markdown",
   "metadata": {},
   "source": [
    "### Read in data from file"
   ]
  },
  {
   "cell_type": "code",
   "execution_count": 4,
   "metadata": {},
   "outputs": [],
   "source": [
    "## Location of C++ output\n",
    "outputfolder = '../output/' + name\n",
    "fdtype = np.dtype('f8')\n",
    "\n",
    "## Grid sizes\n",
    "gridsize = np.fromfile(outputfolder + '_Gridsizes', 'i4')\n",
    "nx = gridsize[0]\n",
    "ns = gridsize[1]\n",
    "n_modes = gridsize[2]\n",
    "\n",
    "## Step sizes\n",
    "config = np.fromfile(outputfolder + '_Stepsizes', fdtype)\n",
    "dx = config[0]\n",
    "ds = config[1]\n",
    "xmin = config[2]\n",
    "xmax = config[3]\n",
    "smax = config[4]\n",
    "\n",
    "## Transition rates\n",
    "Lambda = np.fromfile(outputfolder + '_lambda', fdtype)\n",
    "Lambda = Lambda.reshape(n_modes,n_modes)\n",
    "\n",
    "## Get data from each mode\n",
    "W = np.zeros(gridsize)\n",
    "for j in range(n_modes):\n",
    "    modename = outputfolder + str(j)\n",
    "    CDF   = np.fromfile(modename + '_CDF', fdtype)\n",
    "    W[:,:,j] = CDF.reshape(nx,ns)\n",
    "    \n",
    "    \n",
    "## Get min cost data\n",
    "s0 = np.fromfile(outputfolder + '_MinCost', fdtype)\n",
    "w0 = np.fromfile(outputfolder + '_MinCostProb', fdtype)\n",
    "w0 = w0.reshape(nx,n_modes)"
   ]
  },
  {
   "cell_type": "code",
   "execution_count": 5,
   "metadata": {},
   "outputs": [],
   "source": [
    "## Figures will be saved to Ex1/... or Ex2/...\n",
    "## This code creates this directory if it does not already exist\n",
    "write_directory = 'Ex' + str(example)\n",
    "if not os.path.exists(write_directory):\n",
    "    os.makedirs(write_directory)"
   ]
  },
  {
   "cell_type": "markdown",
   "metadata": {},
   "source": [
    "# Plotting"
   ]
  },
  {
   "cell_type": "markdown",
   "metadata": {},
   "source": [
    "### Plot of $s^0(x)$"
   ]
  },
  {
   "cell_type": "code",
   "execution_count": 6,
   "metadata": {
    "scrolled": true
   },
   "outputs": [
    {
     "data": {
      "image/png": "[encoded data removed]",
      "text/plain": [
       "<Figure size 432x288 with 1 Axes>"
      ]
     },
     "metadata": {
      "needs_background": "light"
     },
     "output_type": "display_data"
    }
   ],
   "source": [
    "x = np.linspace(xmin, xmax, nx)\n",
    "\n",
    "## Create figure\n",
    "plt.close()\n",
    "fig, ax = plt.subplots()\n",
    "ax.set_xlim([xmin,xmax])\n",
    "ax.set_ylim([0,1])\n",
    "ax.set_aspect(1)\n",
    "\n",
    "## Initial plots\n",
    "s_plot = ax.plot(x,s0,'ko')[0]\n",
    "ax.set_xlabel('$x$', fontsize=mathtextsize)\n",
    "ax.set_title('$s^0(x)$', fontsize=mathtextsize)\n",
    "\n",
    "fig.savefig(write_directory + '/' + name + '_s0.pdf')\n",
    "plt.show()"
   ]
  },
  {
   "cell_type": "markdown",
   "metadata": {},
   "source": [
    "### Plot of $w^0_i(x)$"
   ]
  },
  {
   "cell_type": "code",
   "execution_count": 7,
   "metadata": {},
   "outputs": [
    {
     "data": {
      "image/png": "[encoded data removed]",
      "text/plain": [
       "<Figure size 432x288 with 1 Axes>"
      ]
     },
     "metadata": {
      "needs_background": "light"
     },
     "output_type": "display_data"
    }
   ],
   "source": [
    "## Create figure\n",
    "plt.close()\n",
    "fig, ax = plt.subplots()\n",
    "ax.set_xlim([xmin,xmax])\n",
    "ax.set_ylim([0,1])\n",
    "ax.set_aspect(1)\n",
    "\n",
    "mode1w = ax.plot(x,w0[:,0],'bo')[0]\n",
    "mode2w = ax.plot(x,w0[:,1],'ro')[0]\n",
    "ax.set_xlabel('$x$', fontsize=mathtextsize)\n",
    "ax.set_title('$w^0_i(x)$', fontsize=mathtextsize)\n",
    "\n",
    "fig.savefig(write_directory + '/' + name + '_w0.pdf')\n",
    "plt.show()"
   ]
  }
 ],
 "metadata": {
  "kernelspec": {
   "display_name": "Python 3",
   "language": "python",
   "name": "python3"
  },
  "language_info": {
   "codemirror_mode": {
    "name": "ipython",
    "version": 3
   },
   "file_extension": ".py",
   "mimetype": "text/x-python",
   "name": "python",
   "nbconvert_exporter": "python",
   "pygments_lexer": "ipython3",
   "version": "3.9.10"
  }
 },
 "nbformat": 4,
 "nbformat_minor": 4
}
