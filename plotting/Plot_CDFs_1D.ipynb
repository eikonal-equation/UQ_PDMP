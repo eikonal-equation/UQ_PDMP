{
 "cells": [
  {
   "cell_type": "markdown",
   "metadata": {},
   "source": [
    "# Plotting CDFs of 1D piecewise-deterministic Markov processes"
   ]
  },
  {
   "cell_type": "markdown",
   "metadata": {},
   "source": [
    "### Specify example"
   ]
  },
  {
   "cell_type": "code",
   "execution_count": 1,
   "metadata": {},
   "outputs": [],
   "source": [
    "# example = 1\n",
    "# example = 2\n",
    "example = 7"
   ]
  },
  {
   "cell_type": "code",
   "execution_count": 2,
   "metadata": {},
   "outputs": [],
   "source": [
    "## Settings that are determined by example number \n",
    "if (example == 1):\n",
    "    name = 'Basic'\n",
    "elif (example == 2):\n",
    "    name = 'SpeedTest'\n",
    "elif (example == 7):\n",
    "    name = 'Fishing'"
   ]
  },
  {
   "cell_type": "markdown",
   "metadata": {},
   "source": [
    "### Import Packages\n"
   ]
  },
  {
   "cell_type": "code",
   "execution_count": 3,
   "metadata": {},
   "outputs": [],
   "source": [
    "## General purpose\n",
    "import numpy as np\n",
    "import os\n",
    "\n",
    "## Plotting-specific\n",
    "import matplotlib.pyplot as plt\n",
    "import matplotlib.colors\n",
    "\n",
    "## Set plotting defaults\n",
    "mathtextsize = 36\n",
    "plt.rc('text', usetex=True)\n",
    "plt.rc('font', family='serif', size=28)\n",
    "plt.rcParams['savefig.bbox'] = 'tight'\n",
    "colors = ['red', 'blue', 'green']"
   ]
  },
  {
   "cell_type": "markdown",
   "metadata": {},
   "source": [
    "### Read in data from file"
   ]
  },
  {
   "cell_type": "code",
   "execution_count": 4,
   "metadata": {},
   "outputs": [],
   "source": [
    "## Location of C++ output\n",
    "outputfolder = '../output/' + name\n",
    "fdtype = np.dtype('f8')\n",
    "\n",
    "## Grid sizes\n",
    "gridsize = np.fromfile(outputfolder + '_Gridsizes', 'i4')\n",
    "nx = gridsize[0]\n",
    "ns = gridsize[1]\n",
    "n_modes = gridsize[2]\n",
    "\n",
    "## Step sizes\n",
    "config = np.fromfile(outputfolder + '_Stepsizes', fdtype)\n",
    "dx = config[0]\n",
    "ds = config[1]\n",
    "xmin = config[2]\n",
    "xmax = config[3]\n",
    "smax = config[4]\n",
    "\n",
    "## Get data from each mode\n",
    "W        = np.zeros([nx,ns,n_modes])\n",
    "controls = np.zeros([nx,ns,n_modes])\n",
    "for j in range(n_modes):\n",
    "    modename = outputfolder + str(j)\n",
    "    CDF = np.fromfile(modename + '_CDF', fdtype)\n",
    "    W[:,:,j] = CDF.reshape([nx,ns])"
   ]
  },
  {
   "cell_type": "code",
   "execution_count": 5,
   "metadata": {},
   "outputs": [],
   "source": [
    "## Figures will be saved to Ex1/... or Ex2/...\n",
    "## This code creates this directory if it does not already exist\n",
    "write_directory = 'Ex' + str(example)\n",
    "if not os.path.exists(write_directory):\n",
    "    os.makedirs(write_directory)"
   ]
  },
  {
   "cell_type": "markdown",
   "metadata": {},
   "source": [
    "# Plotting"
   ]
  },
  {
   "cell_type": "markdown",
   "metadata": {},
   "source": [
    "### Plot $w_i(x,s)$ for fixed values of $x$"
   ]
  },
  {
   "cell_type": "code",
   "execution_count": 6,
   "metadata": {},
   "outputs": [
    {
     "name": "stdout",
     "output_type": "stream",
     "text": [
      "Mode 0: [25th, 50th, 75th] percentile are [4.7217, 4.7217, 4.7217]\n",
      "Mode 1: [25th, 50th, 75th] percentile are [8.095, 10.49, 14.5633]\n",
      "Mode 2: [25th, 50th, 75th] percentile are [97.9383, 184.6083, 0.0]\n",
      "Mode 0: [25th, 50th, 75th] percentile are [26.035, 43.4733, 182.1633]\n",
      "Mode 1: [25th, 50th, 75th] percentile are [72.7633, 156.8283, 0.0]\n",
      "Mode 2: [25th, 50th, 75th] percentile are [106.7883, 193.2367, 0.0]\n"
     ]
    },
    {
     "data": {
      "image/png": "[encoded data removed]",
      "text/plain": [
       "<Figure size 432x360 with 1 Axes>"
      ]
     },
     "metadata": {
      "needs_background": "light"
     },
     "output_type": "display_data"
    }
   ],
   "source": [
    "s = np.linspace(0, smax, ns)\n",
    "V = np.transpose(W, (1, 2, 0))  #[ns][mode][nx]\n",
    "\n",
    "## Fixed values of x\n",
    "if (example == 7):\n",
    "    x0_list = [2.13,4.0]\n",
    "else:\n",
    "    x0_list = [0.3,0.7]    \n",
    "i_list = []\n",
    "for x0 in x0_list:\n",
    "    i_list.append(int((x0-xmin)/dx))\n",
    "n_pts = len(x0_list)\n",
    "    \n",
    "for n in range(n_pts):\n",
    "    i = i_list[n]\n",
    "    x0 = x0_list[n]\n",
    "    \n",
    "    plt.close()\n",
    "    \n",
    "    fig, ax = plt.subplots(1,1,figsize = [6,5])\n",
    "    ax.set_autoscale_on(True)\n",
    "\n",
    "    if (example == 7):\n",
    "        for m in range(n_modes):\n",
    "            d = m/float(n_modes*2)\n",
    "            ax.plot(s,V[:,m, i],'o', color = colors[m], alpha=1,ms=6*d+1,mec = None, clip_on=False,zorder=100)[0]\n",
    "            # find percentiles\n",
    "            a = round(np.argmax(V[:,m,i] > 0.25)*ds,4)\n",
    "            b = round(np.argmax(V[:,m,i] > 0.5)*ds, 4)\n",
    "            c = round(np.argmax(V[:,m,i] > 0.75)*ds, 4)\n",
    "            print(f\"Mode {m}: [25th, 50th, 75th] percentile are [{a}, {b}, {c}]\")\n",
    "    else:\n",
    "        ax.plot(s,V[:,0, i],'bo',alpha=1,markersize=5,clip_on=False,zorder=100)[0]\n",
    "        ax.plot(s,V[:,1, i],'ro',alpha=1,markersize=2,clip_on=False,zorder=101)[0]\n",
    "    ax.set_xlabel(r'$s$', fontsize=mathtextsize)\n",
    "    ax.set_title(r'$w_i(x, s)$ for $x = {:0.2f}$'.format(x0), fontsize=mathtextsize)\n",
    "\n",
    "    fig.savefig(write_directory + '/' + name + 'CDF' + str(x0).replace('.', '') + '.pdf')\n",
    "    fig.savefig(write_directory + '/' + name + 'CDF' + str(x0).replace('.', '') + 's' + str(int(smax)) + '.png', dpi = 300)"
   ]
  },
  {
   "cell_type": "markdown",
   "metadata": {},
   "source": [
    "### Plot $w_i(x,s)$ for fixed $s$-slices"
   ]
  },
  {
   "cell_type": "code",
   "execution_count": null,
   "metadata": {
    "scrolled": true
   },
   "outputs": [],
   "source": [
    "x = np.linspace(xmin,xmax,nx)\n",
    "        \n",
    "## Set key-frames\n",
    "keyframes = []\n",
    "if (example == 7):\n",
    "    for j in [1, 2, 3, 4, 5, 6, 7, 8]:\n",
    "        keyframes.append(int(j*(ns-1)/10))\n",
    "else:\n",
    "    for j in range(1,5):\n",
    "        keyframes.append(int(j*(ns-1)/8))\n",
    "n_keyframes = len(keyframes)\n",
    "\n",
    "## Create figure\n",
    "plt.close()\n",
    "\n",
    "fig, ax = plt.subplots(1,1,figsize = [6,5])\n",
    "if (example == 7):\n",
    "    ax.set_autoscale_on(True)\n",
    "    ax.set_ylim([-0.05,1.05])\n",
    "else:\n",
    "    ax.set_autoscale_on(False)\n",
    "\n",
    "## Initial plots\n",
    "modes = [None]*n_modes\n",
    "if (example == 7):\n",
    "    for m in range(n_modes):\n",
    "        d = m/float(n_modes*2)\n",
    "        modes[m] = ax.plot(x,W[:,0,m],'o', color = colors[m], alpha=1,ms=6*d+1,mec = None,clip_on=False,zorder=100)[0]\n",
    "else:\n",
    "    modes[0] = ax.plot(x,W[:,0,0],'bo',markersize=5,clip_on=False,zorder=100)[0]\n",
    "    modes[1] = ax.plot(x,W[:,0,1],'ro',markersize=2,clip_on=False,zorder=101)[0]\n",
    "ax.set_xlabel(r'$x$', fontsize=mathtextsize)\n",
    "ax.set_title(r'$w_i(x, \\bar s)$ for $\\bar s = {:0.2f}$'.format(0), fontsize=mathtextsize)\n",
    "\n",
    "## Draw individual frame\n",
    "def draw_frame(i):\n",
    "    s = i * ds\n",
    "    for m in range(n_modes):\n",
    "        modes[m].set_ydata(W[:,i,m])\n",
    "    ax.set_title(r'$w_i(x, \\bar s)$ for $\\bar s = {:0.2f}$'.format(s), fontsize=mathtextsize)\n",
    "\n",
    "## Save key-frames\n",
    "for j in range(n_keyframes):\n",
    "    draw_frame(keyframes[j])\n",
    "    fig.savefig(write_directory + '/' + name + str(j) +'.pdf')\n",
    "    fig.savefig(write_directory + '/' + name + str(j) +'.png', dpi=300)"
   ]
  }
 ],
 "metadata": {
  "kernelspec": {
   "display_name": "Python 3",
   "language": "python",
   "name": "python3"
  },
  "language_info": {
   "codemirror_mode": {
    "name": "ipython",
    "version": 3
   },
   "file_extension": ".py",
   "mimetype": "text/x-python",
   "name": "python",
   "nbconvert_exporter": "python",
   "pygments_lexer": "ipython3",
   "version": "3.9.10"
  }
 },
 "nbformat": 4,
 "nbformat_minor": 4
}
