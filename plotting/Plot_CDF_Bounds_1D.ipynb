{
 "cells": [
  {
   "cell_type": "markdown",
   "metadata": {},
   "source": [
    "# Plotting bounds on CDFs for piecewise-deterministic Markov processes"
   ]
  },
  {
   "cell_type": "markdown",
   "metadata": {},
   "source": [
    "### Specify example"
   ]
  },
  {
   "cell_type": "code",
   "execution_count": 1,
   "metadata": {},
   "outputs": [],
   "source": [
    "example = 4 # Compare CDF bounds to a selection of known asymmetrical lambda values"
   ]
  },
  {
   "cell_type": "code",
   "execution_count": 2,
   "metadata": {},
   "outputs": [],
   "source": [
    "## Settings that are determined by example number\n",
    "if (example == 4):\n",
    "    name2 = 'CDF_Asym_Lambda_'\n",
    "    name = 'CDF_Bounds'\n",
    "    sampleSize = 16 # number of lambda combinations to be graphed\n",
    "    outputfolder2 = '../output/' + name2"
   ]
  },
  {
   "cell_type": "markdown",
   "metadata": {},
   "source": [
    "### Import Packages\n"
   ]
  },
  {
   "cell_type": "code",
   "execution_count": 3,
   "metadata": {},
   "outputs": [],
   "source": [
    "## General purpose\n",
    "import numpy as np\n",
    "import os\n",
    "\n",
    "## Plotting-specific\n",
    "import matplotlib.pyplot as plt\n",
    "import matplotlib.colors\n",
    "from matplotlib.lines import Line2D\n",
    "\n",
    "## Set plotting defaults\n",
    "plt.rc('text', usetex=True)\n",
    "mathtextsize = 20\n",
    "plt.rc('font', family='serif', size=16)\n",
    "plt.rcParams['savefig.bbox'] = 'tight'\n",
    "frame_skip = 5\n",
    "\n",
    "# holds colors for lower (colors[m,0]) and upper (colors[m,1]) CDF bounds\n",
    "colors = [['darkblue', 'royalblue'],['darkred', 'lightcoral']]"
   ]
  },
  {
   "cell_type": "markdown",
   "metadata": {},
   "source": [
    "### Read in data from file"
   ]
  },
  {
   "cell_type": "code",
   "execution_count": 4,
   "metadata": {},
   "outputs": [],
   "source": [
    "## Location of C++ output\n",
    "outputfolder = '../output/' + name\n",
    "fdtype = np.dtype('f8')\n",
    "\n",
    "## Grid sizes\n",
    "gridsize = np.fromfile(outputfolder + '_Gridsizes', 'i4')\n",
    "nx = gridsize[0]\n",
    "ns = gridsize[1]\n",
    "n_modes = gridsize[2]\n",
    "\n",
    "## Step sizes\n",
    "config = np.fromfile(outputfolder + '_Stepsizes', fdtype)\n",
    "dx = config[0]\n",
    "ds = config[1]\n",
    "xmin = config[2]\n",
    "xmax = config[3]\n",
    "smax = config[4]\n",
    "\n",
    "## Get data from each mode\n",
    "bounds_grid = [nx, ns, n_modes, 2] # [ns][nx][mode][upper or lower bound]\n",
    "W = np.zeros(bounds_grid)\n",
    "\n",
    "asym_grid = [nx, ns, n_modes, sampleSize]  #[ns][nx][mode][lambda combo]\n",
    "V = np.zeros(asym_grid)\n",
    "\n",
    "## create separate figures for each mode\n",
    "for m in range(n_modes):\n",
    "    modename = outputfolder + str(m)\n",
    "\n",
    "    ## Load data for CDF bounds\n",
    "    CDFUpper = np.fromfile(modename + '_CDF_UpperBound', fdtype)\n",
    "    CDFLower = np.fromfile(modename + '_CDF_LowerBound', fdtype)\n",
    "    W[:,:,m,1] = CDFUpper.reshape(nx,ns)\n",
    "    W[:,:,m,0] = CDFLower.reshape(nx,ns)\n",
    "\n",
    "    ## Load data for desired combinations of lambdas\n",
    "    lambda1 = 1.00\n",
    "    lambda2 = 1.00\n",
    "    k=0\n",
    "    for i in range(4):\n",
    "        for j in range(4):\n",
    "            modename2 = outputfolder2 + str(lambda1+ i) + \"_\"+ str(lambda2+j) + \"_\" + str(m)\n",
    "            CDFAsym = np.fromfile(modename2 + '_CDF', fdtype)\n",
    "            V[:,:,m,k] = CDFAsym.reshape(nx,ns)\n",
    "            k+=1"
   ]
  },
  {
   "cell_type": "code",
   "execution_count": 5,
   "metadata": {},
   "outputs": [],
   "source": [
    "## Figures will be saved to Ex1/... or Ex2/...\n",
    "## This code creates this directory if it does not already exist\n",
    "write_directory = 'Ex' + str(example)\n",
    "if not os.path.exists(write_directory):\n",
    "    os.makedirs(write_directory)"
   ]
  },
  {
   "cell_type": "markdown",
   "metadata": {},
   "source": [
    "# Plotting"
   ]
  },
  {
   "cell_type": "markdown",
   "metadata": {},
   "source": [
    "### Plot CDFs ($s$ fixed, $x$ varying in each frame)"
   ]
  },
  {
   "cell_type": "code",
   "execution_count": 6,
   "metadata": {},
   "outputs": [
    {
     "data": {
      "image/png": "[encoded data removed]",
      "text/plain": [
       "<Figure size 432x288 with 1 Axes>"
      ]
     },
     "metadata": {
      "needs_background": "light"
     },
     "output_type": "display_data"
    }
   ],
   "source": [
    "x = np.linspace(xmin,xmax,nx)\n",
    "\n",
    "## Set key-frames\n",
    "keyframes = []\n",
    "for j in [1, 2, 3, 4]:\n",
    "    keyframes.append(int(j*(ns-1)/8))\n",
    "n_keyframes = len(keyframes)\n",
    "\n",
    "for m in range(n_modes):\n",
    "    ## Create figure\n",
    "    plt.close()\n",
    "    fig, ax = plt.subplots()\n",
    "    ax.set_autoscale_on(False)\n",
    "    \n",
    "    ## Initial plots\n",
    "    asym = [None]*sampleSize\n",
    "    for j in range(sampleSize):\n",
    "        d = j/float(sampleSize*2)\n",
    "        asym[j] = ax.plot(x,V[:,0,m,j],marker ='o', color = (0.1 + d,0.4 + d,0.1 + d), ls = 'None', fillstyle='full', mec=(0.1 + d, 0.4 + d, 0.1 + d), alpha=0.7,ms=2,clip_on=False,zorder=100)[0]\n",
    "\n",
    "    lower = ax.plot(x,W[:,0,m,0],marker ='o', color = colors[m][0], ls = 'None', fillstyle='full', mec=colors[m][0], alpha=1,ms=5,clip_on=False,zorder=100)[0]\n",
    "    upper = ax.plot(x,W[:,0,m,1],marker ='o', color = colors[m][1], ls = 'None', fillstyle='full', mec=colors[m][1], alpha=1,ms=2,clip_on=False,zorder=101)[0]\n",
    "    ax.set_xlabel('$x$', fontsize=mathtextsize)\n",
    "    ax.set_title(r'$w_{:01d}(x,\\bar{{s}})$ bounds for $\\bar{{s}} = {:0.2f}$'.format(m+1,0), fontsize=mathtextsize)\n",
    "\n",
    "    ## Animation function\n",
    "    def draw_frame(i):\n",
    "        ## Draw next frames\n",
    "        s = i * ds\n",
    "        lower.set_ydata(W[:,i,m,0])\n",
    "        upper.set_ydata(W[:,i,m,1])\n",
    "        for j in range(sampleSize):\n",
    "            asym[j].set_ydata(V[:,i,m,j])\n",
    "\n",
    "\n",
    "        ax.set_title(r'$w_{:d}(x,\\bar{{s}})$ bounds for $\\bar{{s}} = {:0.2f}$'.format(m+1,s), fontsize=mathtextsize)\n",
    "\n",
    "        ## Return iterable of artist objects\n",
    "        return [lower,upper, asym]\n",
    "\n",
    "    ## Save key-frames\n",
    "    for j in range(n_keyframes):\n",
    "        draw_frame(keyframes[j])\n",
    "        fig.savefig(write_directory + '/' + name2 + str(j) +'_mode'+str(m+1)+'.png', dpi=300)\n",
    "        fig.savefig(write_directory + '/' + name2 + str(j) +'_mode'+str(m+1)+'.pdf')"
   ]
  },
  {
   "cell_type": "markdown",
   "metadata": {},
   "source": [
    "### Create CDF bound graphs ($x$ fixed, $s$ varying)"
   ]
  },
  {
   "cell_type": "code",
   "execution_count": 7,
   "metadata": {
    "scrolled": true
   },
   "outputs": [
    {
     "data": {
      "image/png": "[encoded data removed]",
      "text/plain": [
       "<Figure size 432x288 with 1 Axes>"
      ]
     },
     "metadata": {
      "needs_background": "light"
     },
     "output_type": "display_data"
    },
    {
     "data": {
      "image/png": "[encoded data removed]",
      "text/plain": [
       "<Figure size 432x288 with 1 Axes>"
      ]
     },
     "metadata": {
      "needs_background": "light"
     },
     "output_type": "display_data"
    }
   ],
   "source": [
    "## create separate figures for each mode\n",
    "for m in range(n_modes):\n",
    "    ## starting positions to generate CDF bounds for\n",
    "    xList = [0.3, 0.7]\n",
    "\n",
    "    ## rearrange arrays to produce CDF data structures\n",
    "    x2 = np.linspace(0, smax, ns)\n",
    "    W2 = np.transpose(W, (1, 0, 2, 3))\n",
    "\n",
    "    V2 = np.transpose(V, (1, 0, 2, 3))\n",
    "    asym2 = [None]*sampleSize\n",
    "\n",
    "    fig2, ax2 = plt.subplots()\n",
    "    ax2.set_autoscale_on(True)\n",
    "\n",
    "    ## Chose an arbitrary nonzero initial index (here we chose 100) to give the plots the correct size\n",
    "    for k in range(sampleSize):\n",
    "        d = k/float(sampleSize*2)\n",
    "        asym2[k] = ax2.plot(x2,V2[:,100,m,k],marker ='o', color = (0.1 + d,0.4 + d,0.1 + d), ls = 'None', fillstyle='full', mec=(0.1 + d, 0.4 + d, 0.1 + d), alpha=0.7,ms=2,clip_on=False,zorder=100)[0]\n",
    "    lower2 = ax2.plot(x2,W2[:,100,m,0],marker ='o', color = colors[m][0], ls = 'None', fillstyle='full', mec=colors[m][0], alpha=1,ms=5,clip_on=False,zorder=100)[0]\n",
    "    upper2 = ax2.plot(x2,W2[:,100,m,1],marker ='o', color = colors[m][1], ls = 'None', fillstyle='full', mec=colors[m][1], alpha=1,ms=2,clip_on=False,zorder=101)[0]\n",
    "\n",
    "    for x0 in xList:\n",
    "        idx = int(nx * x0)\n",
    "        lower2.set_ydata(W2[:,idx,m,0])\n",
    "        upper2.set_ydata(W2[:,idx,m,1])\n",
    "\n",
    "        for k in range(sampleSize):\n",
    "            asym2[k].set_ydata(V2[:,idx,m,k])\n",
    "\n",
    "        ax2.set_xlabel(r'$s$', fontsize=mathtextsize)\n",
    "        ax2.set_title(r'$w_{:d}(\\bar{{x}},s)$ bounds for $\\bar{{x}} = {:0.2f}$'.format(m+1, x0), fontsize=mathtextsize)\n",
    "        fig2.savefig(write_directory + '/' + name2 + str(x0).replace('.', '') +'_mode'+str(m+1)+'-CDF.pdf')\n",
    "        fig2.savefig(write_directory + '/' + name2 + str(x0).replace('.', '') +'_mode'+str(m+1)+'-CDF(1).png', dpi=300)\n",
    "\n",
    "    plt.tight_layout()"
   ]
  },
  {
   "cell_type": "code",
   "execution_count": null,
   "metadata": {},
   "outputs": [],
   "source": []
  }
 ],
 "metadata": {
  "kernelspec": {
   "display_name": "Python 3",
   "language": "python",
   "name": "python3"
  },
  "language_info": {
   "codemirror_mode": {
    "name": "ipython",
    "version": 3
   },
   "file_extension": ".py",
   "mimetype": "text/x-python",
   "name": "python",
   "nbconvert_exporter": "python",
   "pygments_lexer": "ipython3",
   "version": "3.9.10"
  }
 },
 "nbformat": 4,
 "nbformat_minor": 4
}
