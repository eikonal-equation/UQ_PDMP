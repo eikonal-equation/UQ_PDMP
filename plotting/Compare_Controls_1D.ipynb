{
 "cells": [
  {
   "cell_type": "markdown",
   "metadata": {},
   "source": [
    "# Comparing CDFs for different control strategies in 1D"
   ]
  },
  {
   "cell_type": "markdown",
   "metadata": {},
   "source": [
    "### Specify example"
   ]
  },
  {
   "cell_type": "code",
   "execution_count": 1,
   "metadata": {},
   "outputs": [],
   "source": [
    "name0 = 'CDF_Controlled'\n",
    "name1 = 'EV_Controlled'\n",
    "names = [name0, name1]\n",
    "\n",
    "deadlines = [0.38]\n",
    "mc_names = []\n",
    "for deadline in deadlines:\n",
    "    mc_names.append(\"deadline_\" + str(deadline))\n",
    "n_mc = len(mc_names)"
   ]
  },
  {
   "cell_type": "markdown",
   "metadata": {},
   "source": [
    "### Import Packages\n"
   ]
  },
  {
   "cell_type": "code",
   "execution_count": 2,
   "metadata": {},
   "outputs": [],
   "source": [
    "## General purpose\n",
    "import numpy as np\n",
    "import os\n",
    "\n",
    "## Plotting-specific\n",
    "import matplotlib.pyplot as plt\n",
    "\n",
    "## Set plotting defaults\n",
    "mathtextsize = 20\n",
    "plt.rc('text', usetex=True)\n",
    "plt.rc('font', family='serif', size=16)\n",
    "plt.rcParams['savefig.bbox'] = 'tight'\n",
    "\n",
    "plt.rcParams['text.latex.preamble'] = r'''\n",
    "\\usepackage{amsmath}\n",
    "\\usepackage{amssymb}\n",
    "\\usepackage{bm}\n",
    "'''"
   ]
  },
  {
   "cell_type": "markdown",
   "metadata": {},
   "source": [
    "### Read in data from file"
   ]
  },
  {
   "cell_type": "code",
   "execution_count": 3,
   "metadata": {},
   "outputs": [],
   "source": [
    "## Location of C++ output\n",
    "outputfolders = [];\n",
    "for name in names:\n",
    "    outputfolders.append('../output/' + name)\n",
    "fdtype = np.dtype('f8')\n",
    "\n",
    "## Grid sizes\n",
    "gridsize = np.fromfile(outputfolders[0] + '_Gridsizes', 'i4')\n",
    "nx = gridsize[0]\n",
    "ns = gridsize[1]\n",
    "n_modes = gridsize[2]\n",
    "\n",
    "## Step sizes\n",
    "config = np.fromfile(outputfolders[0] + '_Stepsizes', fdtype)\n",
    "dx = config[0]\n",
    "ds = config[1]\n",
    "xmin = config[2]\n",
    "xmax = config[3]\n",
    "smax = config[4]\n",
    "\n",
    "X = np.linspace(xmin,xmax,nx)\n",
    "S = np.linspace(0,smax,ns)\n",
    "\n",
    "## Get Monte Carlo Data\n",
    "MC_CDF_list = []\n",
    "MC_avg_list = []\n",
    "for i in range(n_mc):\n",
    "    MC_CDF_list.append(np.fromfile(outputfolders[0] + '_MC_pt_cdf_' + mc_names[i], fdtype))\n",
    "    MC_avg_list.append(np.fromfile(outputfolders[0] + '_MC_pt_avg_' + mc_names[i], fdtype))\n",
    "MC_CDF_EV = np.fromfile(outputfolders[1] + '_MC_pt_cdf_EV', fdtype)\n",
    "MC_avg_EV  = np.fromfile(outputfolders[1] + '_MC_pt_avg_EV', fdtype)"
   ]
  },
  {
   "cell_type": "code",
   "execution_count": 4,
   "metadata": {},
   "outputs": [],
   "source": [
    "## Figures will be saved to Ex1/... or Ex2/...\n",
    "## This code creates this directory if it does not already exist\n",
    "write_directory = 'Ex5'\n",
    "if not os.path.exists(write_directory):\n",
    "    os.makedirs(write_directory)"
   ]
  },
  {
   "cell_type": "markdown",
   "metadata": {},
   "source": [
    "# Plotting"
   ]
  },
  {
   "cell_type": "markdown",
   "metadata": {},
   "source": [
    "## Compare CDFs for different strategies using Monte Carlo simulations"
   ]
  },
  {
   "cell_type": "markdown",
   "metadata": {},
   "source": [
    "Starting location $(x,i) = (0.4,0)$"
   ]
  },
  {
   "cell_type": "code",
   "execution_count": 5,
   "metadata": {},
   "outputs": [],
   "source": [
    "linespecs = ['b-','go','ro','c','m','y','k']\n",
    "markers   = ['bo','go','ro','co','mo','yo','ko']\n",
    "linespecs2 = ['b--','g--','r--','c--','m--','y--','k--']"
   ]
  },
  {
   "cell_type": "code",
   "execution_count": 6,
   "metadata": {
    "scrolled": true
   },
   "outputs": [
    {
     "data": {
      "image/png": "[encoded data removed]",
      "text/plain": [
       "<Figure size 432x288 with 1 Axes>"
      ]
     },
     "metadata": {
      "needs_background": "light"
     },
     "output_type": "display_data"
    }
   ],
   "source": [
    "fig, ax = plt.subplots()\n",
    "\n",
    "for i in range(n_mc):\n",
    "    ax.plot(S,MC_CDF_list[i],linespecs[i],linewidth=2,label=r'$\\mathop{\\mathrm{argmax}}\\limits_{\\bm{a}(\\cdot) \\, \\in \\, \\mathcal{A}_e} \\, \\mathbb{P}\\left(\\mathcal{J}^{\\bm{a}(\\cdot)}_1(0.4) \\le '+str(deadlines[i])+r'\\right)$')\n",
    "ax.plot(S,MC_CDF_EV,'r-',linewidth=1,label=r'$\\mathop{\\mathrm{argmin}}\\limits_{\\bm{a}(\\cdot) \\, \\in \\, \\mathcal{A}} \\, \\mathbb{E}\\left(\\mathcal{J}^{\\bm{a}(\\cdot)}_1(0.4)\\right)$')\n",
    "ax.set_xlabel('$s$')\n",
    "ax.set_ylabel(r\"$\\mathbb{P}\\left(\\mathcal{J}^{\\bm{a}(\\cdot)}_1(0.4) \\le s\\right)$\", fontsize=mathtextsize)\n",
    "ax.legend(loc='center left', bbox_to_anchor=(1.04,0.5))\n",
    "\n",
    "## Add points for deadlines\n",
    "for i in range(n_mc):\n",
    "    s1 = int(np.round(deadlines[i] / ds))\n",
    "    ax.plot(S[s1],MC_CDF_list[i][s1],markers[i],markersize=5)\n",
    "    \n",
    "## Add dashed lines for EVs\n",
    "for i in range(n_mc):\n",
    "    ax.plot([MC_avg_list[i],MC_avg_list[i]],[0,1],linespecs2[i],alpha=0.5)\n",
    "ax.plot([MC_avg_EV[0],MC_avg_EV[0]],[0,1],'r--',alpha=0.5)\n",
    "\n",
    "plt.savefig(write_directory + '/' + name0 + '_CDFs.pdf')\n",
    "plt.show()"
   ]
  },
  {
   "cell_type": "code",
   "execution_count": null,
   "metadata": {},
   "outputs": [],
   "source": []
  }
 ],
 "metadata": {
  "kernelspec": {
   "display_name": "Python 3",
   "language": "python",
   "name": "python3"
  },
  "language_info": {
   "codemirror_mode": {
    "name": "ipython",
    "version": 3
   },
   "file_extension": ".py",
   "mimetype": "text/x-python",
   "name": "python",
   "nbconvert_exporter": "python",
   "pygments_lexer": "ipython3",
   "version": "3.9.10"
  }
 },
 "nbformat": 4,
 "nbformat_minor": 4
}
