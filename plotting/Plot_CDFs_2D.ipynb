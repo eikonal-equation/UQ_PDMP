{
 "cells": [
  {
   "cell_type": "markdown",
   "metadata": {},
   "source": [
    "# Plotting 2D CDFs for Piecewise-Deterministic Markov Processes"
   ]
  },
  {
   "cell_type": "markdown",
   "metadata": {},
   "source": [
    "### Specify example"
   ]
  },
  {
   "cell_type": "code",
   "execution_count": 1,
   "metadata": {},
   "outputs": [],
   "source": [
    "# example = 3\n",
    "example = 6"
   ]
  },
  {
   "cell_type": "code",
   "execution_count": 2,
   "metadata": {},
   "outputs": [],
   "source": [
    "## Settings that are determined by example number \n",
    "if (example == 3):\n",
    "    name = 'TwoDimensional'\n",
    "elif (example == 6):\n",
    "    name = '2D_CDF_Controlled'"
   ]
  },
  {
   "cell_type": "markdown",
   "metadata": {},
   "source": [
    "### Import Packages\n"
   ]
  },
  {
   "cell_type": "code",
   "execution_count": 3,
   "metadata": {},
   "outputs": [],
   "source": [
    "## General purpose\n",
    "import numpy as np\n",
    "import os\n",
    "import string\n",
    "\n",
    "## Plotting-specific\n",
    "import matplotlib.pyplot as plt\n",
    "import matplotlib.colors\n",
    "from matplotlib import cm\n",
    "from mpl_toolkits.axes_grid1 import make_axes_locatable\n",
    "\n",
    "## Set plotting defaults\n",
    "mathtextsize = 16\n",
    "plt.rc('text', usetex=True)\n",
    "plt.rc('font', family='serif', size=18)\n",
    "plt.rcParams['savefig.bbox'] = 'tight'"
   ]
  },
  {
   "cell_type": "markdown",
   "metadata": {},
   "source": [
    "### Read in data from file"
   ]
  },
  {
   "cell_type": "code",
   "execution_count": 4,
   "metadata": {},
   "outputs": [],
   "source": [
    "## Location of C++ output\n",
    "outputfolder = '../output/' + name\n",
    "fdtype = np.dtype('f8')\n",
    "\n",
    "## Grid sizes\n",
    "gridsize = np.fromfile(outputfolder + '_Gridsizes', 'i4')\n",
    "nx = gridsize[0]\n",
    "ny = gridsize[1]\n",
    "ns = gridsize[2]\n",
    "n_modes = gridsize[3]\n",
    "\n",
    "## Step sizes\n",
    "stepsize = np.fromfile(outputfolder + '_Stepsizes', fdtype)\n",
    "dx = stepsize[0]\n",
    "dy = stepsize[1]\n",
    "ds = stepsize[2]\n",
    "xmin = stepsize[3]\n",
    "xmax = stepsize[4]\n",
    "ymin = stepsize[5]\n",
    "ymax = stepsize[6]\n",
    "smax = stepsize[7]\n",
    "\n",
    "## Construct grid coordinates\n",
    "X = np.linspace(xmin,xmax,nx)\n",
    "Y = np.linspace(ymin,ymax,ny)\n",
    "S = np.linspace(0,smax,ns)\n",
    "\n",
    "## Get data from each mode\n",
    "W = np.zeros(gridsize)\n",
    "for j in range(n_modes):\n",
    "    modename = outputfolder + str(j)\n",
    "    CDF = np.fromfile(modename + '_CDF', fdtype)\n",
    "    W[:,:,:,j] = CDF.reshape(nx,ny,ns)"
   ]
  },
  {
   "cell_type": "code",
   "execution_count": 5,
   "metadata": {},
   "outputs": [],
   "source": [
    "## Figures will be saved to Ex1/... or Ex2/...\n",
    "## This code creates this directory if it does not already exist\n",
    "write_directory = 'Ex' + str(example)\n",
    "if not os.path.exists(write_directory):\n",
    "    os.makedirs(write_directory)"
   ]
  },
  {
   "cell_type": "markdown",
   "metadata": {},
   "source": [
    "# Plotting"
   ]
  },
  {
   "cell_type": "markdown",
   "metadata": {},
   "source": [
    "### Helper function for drawing individual frame"
   ]
  },
  {
   "cell_type": "code",
   "execution_count": 6,
   "metadata": {},
   "outputs": [],
   "source": [
    "## Set contour levels\n",
    "w_max = 1.0\n",
    "w_min = 0.0\n",
    "w_levels = np.linspace(w_min,w_max,21);\n",
    "\n",
    "cbar_ticks = [0.0, 0.2, 0.4, 0.6, 0.8, 1.0]"
   ]
  },
  {
   "cell_type": "code",
   "execution_count": 7,
   "metadata": {},
   "outputs": [],
   "source": [
    "## This function is for plotting an individual frame of the CDF for a single mode\n",
    "## Input:\n",
    "##     ax:  Axes to plot value function on\n",
    "##     k:   Index of timestep to be plotted\n",
    "##     i:   Mode to be plotted\n",
    "## Output:\n",
    "##     Contour plot of value function u\n",
    "def plot_w_frame(ax, k, i):\n",
    "    ax.clear()\n",
    "    im_lines = ax.contour(X, Y, np.transpose(W[:,:,k,i]), w_levels, linewidths=1,colors='k')\n",
    "    im = ax.contourf(X, Y, np.transpose(W[:,:,k,i]), w_levels)\n",
    "    return im"
   ]
  },
  {
   "cell_type": "markdown",
   "metadata": {},
   "source": [
    "### Plot CDFs"
   ]
  },
  {
   "cell_type": "code",
   "execution_count": 8,
   "metadata": {
    "scrolled": true
   },
   "outputs": [
    {
     "data": {
      "image/png": "[encoded data removed]",
      "text/plain": [
       "<Figure size 432x288 with 1 Axes>"
      ]
     },
     "metadata": {},
     "output_type": "display_data"
    },
    {
     "data": {
      "image/png": "[encoded data removed]",
      "text/plain": [
       "<Figure size 432x288 with 1 Axes>"
      ]
     },
     "metadata": {
      "needs_background": "light"
     },
     "output_type": "display_data"
    }
   ],
   "source": [
    "## Set key-frames and subfigure naming\n",
    "keyframes = []\n",
    "for j in [1, 2, 3, 4]:\n",
    "    if (example == 3):\n",
    "        keyframes.append(int(j*(ns-1)/4))\n",
    "    else:\n",
    "        keyframes.append(int(j*(ns-1)/8))\n",
    "n_keyframes = len(keyframes)\n",
    "d = dict(enumerate(string.ascii_lowercase, 0))\n",
    "\n",
    "## Create figure\n",
    "plt.close()\n",
    "n_plots = n_modes\n",
    "fig, ax = plt.subplots()\n",
    "\n",
    "## Plot keyframes for each mode\n",
    "for i in range(n_modes):\n",
    "    for k in keyframes:\n",
    "        ## Clear out old axis and plot new CDF\n",
    "        ax.collections = []\n",
    "        ax.patches = []\n",
    "        ax.set_aspect(1)\n",
    "        im = plot_w_frame(ax, k, i)\n",
    "        ax.tick_params(axis='both', left=False, bottom=False, top = False, right=False, labelleft=False, labelbottom=False)\n",
    "        plt.tight_layout()\n",
    "\n",
    "        ## Save figure\n",
    "        keyframe_num = keyframes.index(k) + 1\n",
    "        fig.savefig(write_directory + '/' + name + '_' + str(keyframe_num) + d[i] +'.png', dpi=50)\n",
    "\n",
    "### Plot horizontal colorbar\n",
    "fig = plt.figure()\n",
    "ax = fig.add_axes([0.05, 0.80, 0.9, 0.1])\n",
    "cb = matplotlib.colorbar.ColorbarBase(ax, orientation='horizontal')\n",
    "cb.ax.tick_params(labelsize=1.5*mathtextsize)\n",
    "plt.savefig(write_directory + '/colorbar.pdf')"
   ]
  },
  {
   "cell_type": "code",
   "execution_count": null,
   "metadata": {},
   "outputs": [],
   "source": []
  }
 ],
 "metadata": {
  "kernelspec": {
   "display_name": "Python 3",
   "language": "python",
   "name": "python3"
  },
  "language_info": {
   "codemirror_mode": {
    "name": "ipython",
    "version": 3
   },
   "file_extension": ".py",
   "mimetype": "text/x-python",
   "name": "python",
   "nbconvert_exporter": "python",
   "pygments_lexer": "ipython3",
   "version": "3.9.10"
  }
 },
 "nbformat": 4,
 "nbformat_minor": 4
}
